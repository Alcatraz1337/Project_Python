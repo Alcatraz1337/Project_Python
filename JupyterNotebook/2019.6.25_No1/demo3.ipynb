{
 "cells": [
  {
   "cell_type": "code",
   "execution_count": null,
   "metadata": {},
   "outputs": [],
   "source": [
    "a = 0b0110\n",
    "b = 0o0110\n",
    "c = 0x0110\n",
    "d = 110\n",
    "a,b,c,d"
   ]
  },
  {
   "cell_type": "code",
   "execution_count": null,
   "metadata": {},
   "outputs": [],
   "source": [
    "bin(10)"
   ]
  },
  {
   "cell_type": "code",
   "execution_count": null,
   "metadata": {},
   "outputs": [],
   "source": [
    "oct(10)"
   ]
  },
  {
   "cell_type": "code",
   "execution_count": null,
   "metadata": {},
   "outputs": [],
   "source": [
    "hex(10)"
   ]
  },
  {
   "cell_type": "code",
   "execution_count": null,
   "metadata": {},
   "outputs": [],
   "source": [
    "hex"
   ]
  },
  {
   "cell_type": "code",
   "execution_count": null,
   "metadata": {},
   "outputs": [],
   "source": [
    "0.1+2.21212"
   ]
  },
  {
   "cell_type": "markdown",
   "metadata": {},
   "source": [
    "# 列表[], 字典{}， 集合 set（），元组 （）"
   ]
  },
  {
   "cell_type": "markdown",
   "metadata": {},
   "source": [
    "# 复数（实部，虚部）"
   ]
  },
  {
   "cell_type": "code",
   "execution_count": null,
   "metadata": {},
   "outputs": [],
   "source": [
    "complex(1,4)"
   ]
  },
  {
   "cell_type": "markdown",
   "metadata": {},
   "source": [
    "# 布尔值一定首字母大写\n",
    "只要 非空 就是True\n",
    "0和None也是False"
   ]
  },
  {
   "cell_type": "code",
   "execution_count": null,
   "metadata": {},
   "outputs": [],
   "source": [
    "a = {'a'}\n",
    "myList = [1,2,3]\n",
    "tup = ()\n",
    "dic = {'a','b'}\n",
    "print(bool(-1))\n",
    "print(bool(''))\n",
    "print(bool(a))\n",
    "print(bool(myList))\n",
    "print(bool(tup))\n",
    "print(bool(dic))\n",
    "print(bool(None))\n",
    "print('myList[1:3]')\n"
   ]
  },
  {
   "cell_type": "markdown",
   "metadata": {},
   "source": [
    "# str中，用'\\'来表示转义字符，或者在“”中使用单引号,还有三引号的使用，链接：https://blog.csdn.net/Toby_Cho/article/details/80987998 \n",
    "###转义字符在print函数中会有效果###"
   ]
  },
  {
   "cell_type": "code",
   "execution_count": null,
   "metadata": {},
   "outputs": [],
   "source": [
    "'''你好，\\\"中国\\\"'''"
   ]
  },
  {
   "cell_type": "code",
   "execution_count": null,
   "metadata": {},
   "outputs": [],
   "source": [
    "\"Let's go\""
   ]
  },
  {
   "cell_type": "code",
   "execution_count": null,
   "metadata": {},
   "outputs": [],
   "source": [
    "print(\"Hello\\nyou\")"
   ]
  },
  {
   "cell_type": "code",
   "execution_count": null,
   "metadata": {},
   "outputs": [],
   "source": [
    "a = [10, 100, -786, 80, -490, -0x260, 0x69]\n",
    "b = [0.0, 15.2, -21.9, 32.3e18, -90, -32.54e100, 70.2e-12]\n",
    "c = [3.14j, 45.j, 9.322e-36j, .876j, -.6545+0j, 3e+26j, 4.53e-7j]\n",
    "a1 = 10\n",
    "b1 = 0.0\n",
    "c1 = complex(0,3.14)\n",
    "a2 = 100\n",
    "b2 = 15.2\n",
    "c2 = 45.j\n",
    "a3 = -786\n",
    "b3 = -21.9\n",
    "c3 = 9.322e-36j\n",
    "a4 = 80\n",
    "b4 = 32.3e18\n"
   ]
  },
  {
   "cell_type": "code",
   "execution_count": null,
   "metadata": {},
   "outputs": [],
   "source": [
    "a = 1\n",
    "b = 2"
   ]
  }
 ],
 "metadata": {
  "kernelspec": {
   "display_name": "Python 3",
   "language": "python",
   "name": "python3"
  },
  "language_info": {
   "codemirror_mode": {
    "name": "ipython",
    "version": 3
   },
   "file_extension": ".py",
   "mimetype": "text/x-python",
   "name": "python",
   "nbconvert_exporter": "python",
   "pygments_lexer": "ipython3",
   "version": "3.7.3"
  }
 },
 "nbformat": 4,
 "nbformat_minor": 2
}
