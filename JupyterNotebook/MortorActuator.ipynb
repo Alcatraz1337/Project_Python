{
 "cells": [
  {
   "cell_type": "code",
   "execution_count": 1,
   "metadata": {},
   "outputs": [],
   "source": [
    "from abc import ABC, abstractmethod"
   ]
  },
  {
   "cell_type": "code",
   "execution_count": 2,
   "metadata": {},
   "outputs": [],
   "source": [
    "class HooverAttachment(ABC):\n",
    "    def __init__(self, name, attachmentSpec):\n",
    "        self.attachmentName = name\n",
    "        self.attachmentSpec = attachmentSpec\n",
    "        super().__init__()\n",
    "\n",
    "    @abstractmethod\n",
    "    def getTraverseSpeed(self): pass"
   ]
  },
  {
   "cell_type": "code",
   "execution_count": 3,
   "metadata": {},
   "outputs": [],
   "source": [
    "class PathFinderResponse:\n",
    "    def __init__(self, direction, degrees, distance):\n",
    "        self.direction = direction\n",
    "        self.degrees = degrees\n",
    "        self.distance = distance"
   ]
  },
  {
   "cell_type": "code",
   "execution_count": 4,
   "metadata": {},
   "outputs": [],
   "source": [
    "class PathFinder(ABC):\n",
    "    def __init__(self, mapStore, attachment):\n",
    "        self.__mapStore = mapStore\n",
    "        self.__attachment = attachment\n",
    "        self.__updateMapInXTurn = 0\n",
    "        super().__init__()\n",
    "\n",
    "    def getNewPath():\n",
    "        self.__updateMapInXTurn -= 1\n",
    "        if(self.__updateMapInXTurn <= 0):\n",
    "            direction = True\n",
    "            degrees = 360\n",
    "            distance = 0\n",
    "            self.__updateMapInXTurn = 2\n",
    "            return PathFinderResponse(direction, degrees, distance)\n",
    "        else:\n",
    "            if isThereUnexploredRoomArea():\n",
    "                currentMapData = self.__mapStore.getMapData()\n",
    "                traverseSpeed = self.__attachment.getTraverseSpeed()\n",
    "                availablePaths = generateAvailablePaths(traverseSpeed, currentMapData)\n",
    "                return selectPath(availablePaths)\n",
    "            else:\n",
    "                return\n",
    "        \n",
    "    @abstractmethod\n",
    "    def isThereUnexploredRoomArea(self): pass\n",
    "\n",
    "    @abstractmethod\n",
    "    def generateAvailablePaths(self, speed, mapData): pass\n",
    "\n",
    "    @abstractmethod\n",
    "    def selectPath(self, availablePaths): pass"
   ]
  },
  {
   "cell_type": "code",
   "execution_count": 5,
   "metadata": {},
   "outputs": [],
   "source": [
    "class Chipsets(ABC):\n",
    "    def __init__(self):\n",
    "        pass\n",
    "    \n",
    "    @abstractmethod\n",
    "    # Get signal\n",
    "    def receiveSignal(sefl): pass"
   ]
  },
  {
   "cell_type": "code",
   "execution_count": 6,
   "metadata": {},
   "outputs": [],
   "source": [
    "class Wheel(ABC):\n",
    "    def __init__(self):\n",
    "        self.speed = 0\n",
    "\n",
    "    @abstractmethod\n",
    "    def setSpeed(self, targetSpeed):\n",
    "        # Define the speed of wheels\n",
    "        self.speed = targetSpeed\n",
    "        pass"
   ]
  },
  {
   "cell_type": "code",
   "execution_count": 7,
   "metadata": {},
   "outputs": [],
   "source": [
    "class EletricMotor(ABC):\n",
    "    def __init__(self):\n",
    "        self.power = 0\n",
    "\n",
    "    @abstractmethod\n",
    "    def startUp(self, voltage):\n",
    "        # Power of output\n",
    "        self.power = voltage\n",
    "        pass"
   ]
  },
  {
   "cell_type": "code",
   "execution_count": 8,
   "metadata": {},
   "outputs": [],
   "source": [
    "class MotorAcuator(Chipsets):\n",
    "    stopped = 0\n",
    "    blocked = 1\n",
    "    travelling = 2\n",
    "    def __init__(self):\n",
    "        self.wheel = Wheel\n",
    "        self.lastSpeed = 0 # Mark the last speed when the hoover is blocked\n",
    "        self.electricMotor = ElectricMotor\n",
    "        self.pathFinder = PathFinder\n",
    "        self.state = stopped # Mark the hoover's state\n",
    "\n",
    "    @abstractmethod\n",
    "    def receiveSignal(self):\n",
    "        pass #\n",
    "\n",
    "    @abstractmethod\n",
    "    def motorStop(self):\n",
    "        lastSpeed = self.wheel.speed\n",
    "        self.wheel.setSpeed(0)\n",
    "        self.state = blocked\n",
    "        pass\n",
    "\n",
    "    @abstractmethod\n",
    "    def motorContinue(self):\n",
    "        self.wheel.setSpeed(lastSpeed)\n",
    "        self.state = travelling\n",
    "        pass\n",
    "\n",
    "    @abstractmethod\n",
    "    def travelToTarget(self):\n",
    "        # Get the map data and set the route to the target location\n",
    "        pass\n",
    "    "
   ]
  },
  {
   "cell_type": "code",
   "execution_count": null,
   "metadata": {},
   "outputs": [],
   "source": []
  }
 ],
 "metadata": {
  "kernelspec": {
   "display_name": "Python 3",
   "language": "python",
   "name": "python3"
  },
  "language_info": {
   "codemirror_mode": {
    "name": "ipython",
    "version": 3
   },
   "file_extension": ".py",
   "mimetype": "text/x-python",
   "name": "python",
   "nbconvert_exporter": "python",
   "pygments_lexer": "ipython3",
   "version": "3.7.3"
  }
 },
 "nbformat": 4,
 "nbformat_minor": 2
}
