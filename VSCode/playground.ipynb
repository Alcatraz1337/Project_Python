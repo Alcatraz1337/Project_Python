{
 "cells": [
  {
   "cell_type": "code",
   "execution_count": 1,
   "metadata": {},
   "outputs": [],
   "source": [
    "import time, functools"
   ]
  },
  {
   "cell_type": "code",
   "execution_count": 3,
   "metadata": {},
   "outputs": [],
   "source": [
    "def log(func):\n",
    "    print(func)\n",
    "    if callable(func):\n",
    "        @functools.wraps(func)\n",
    "        def wrap(args, **kw):\n",
    "            print('no args %s():' % (func.name))\n",
    "            print(\"begin call\")\n",
    "            #r = func(args, kw)\n",
    "            #print(\"end call\")\n",
    "            return func(*args,kw)\n",
    "        print(\"end call\")\n",
    "        return wrap\n",
    "\n",
    "    def decorator(func):\n",
    "        @functools.wraps(func)\n",
    "        def wrap(args, **kw):\n",
    "            print('args  %s %s():' % (func, func.name))\n",
    "            print(\"begin call\")\n",
    "            r = func(args, **kw)\n",
    "            print(\"end call\")\n",
    "            return r\n",
    "        return wrap\n",
    "    return decorator"
   ]
  },
  {
   "cell_type": "code",
   "execution_count": 4,
   "metadata": {},
   "outputs": [
    {
     "name": "stdout",
     "output_type": "stream",
     "text": [
      "<function now at 0x000001919D3FA378>\n",
      "end call\n"
     ]
    }
   ],
   "source": [
    "@log\n",
    "def now():\n",
    "    print(\"2022\")"
   ]
  },
  {
   "cell_type": "code",
   "execution_count": null,
   "metadata": {},
   "outputs": [],
   "source": []
  }
 ],
 "metadata": {
  "interpreter": {
   "hash": "9bce563f4c250286cf200fffc7c93cebffc4293288e1d11b5248bf02adddc1aa"
  },
  "kernelspec": {
   "display_name": "Python 3.7.3 ('base')",
   "language": "python",
   "name": "python3"
  },
  "language_info": {
   "codemirror_mode": {
    "name": "ipython",
    "version": 3
   },
   "file_extension": ".py",
   "mimetype": "text/x-python",
   "name": "python",
   "nbconvert_exporter": "python",
   "pygments_lexer": "ipython3",
   "version": "3.7.3"
  },
  "orig_nbformat": 4
 },
 "nbformat": 4,
 "nbformat_minor": 2
}
