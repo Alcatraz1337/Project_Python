{
 "cells": [
  {
   "cell_type": "code",
   "execution_count": 9,
   "metadata": {},
   "outputs": [],
   "source": [
    "\n",
    "import numpy as np\n",
    " \n",
    "class LogisticRegression:\n",
    "    def __init__(self, normalize = True, alpha=0.3):\n",
    "        self.coef_ = 0.0\n",
    "        self.intercept = 0.\n",
    "        self.theta = None\n",
    "        self.normalize = normalize\n",
    "        self.offset = 1.0\n",
    "        self.scalar = 1.0\n",
    "        self.alpha = alpha\n",
    "        self.iter_count = 0\n",
    "        self.cost_history=[]\n",
    "        pass\n",
    "    \n",
    "    # e/(1+e^ax)\n",
    "    def __sigmoid(self, z):        \n",
    "        epart = np.exp( z )\n",
    "        return epart / (1 + epart)\n",
    " \n",
    "    #for n feature, x = 0:n, theta = 0:n\n",
    "    def __hypothetic(self, x):\n",
    "        z = np.dot(self.theta, x) + self.intercept\n",
    "        return self.__sigmoid(z)\n",
    " \n",
    "    #distance for single sample or all the samples\n",
    "    def __error_dist(self, x, y):\n",
    "        return self.__hypothetic(x) - y\n",
    " \n",
    "    #y log h + (1 - y) log( 1- h )\n",
    "    def __loglikelihood(self, x, y):\n",
    "        h = self.__hypothetic(x)\n",
    "        return y * np.log(h) + (1 - y)*np.log(1 - h)\n",
    " \n",
    "    #J = - mean of likelihood\n",
    "    def __Jfunction(self):        \n",
    "        sum = 0\n",
    "        \n",
    "        for i in range(0, self.m):\n",
    "            sum += self.__loglikelihood(self.x[i], self.y[i])\n",
    "        \n",
    "        return 1/self.m * sum\n",
    " \n",
    "    #mean of ( h - y ) * x_j = [dist matrix for sample] dot sample\n",
    "    def __partialderiv_J_func(self,):\n",
    " \n",
    "        h = np.zeros(self.m)        \n",
    "        for i in range(0, self.m):\n",
    "            h[i] = self.__hypothetic(self.x[i])\n",
    " \n",
    "        dist = h - self.y\n",
    "        \n",
    "        return np.asarray(np.mat(dist.T) * self.x) / self.m\n",
    " \n",
    "        #\\frac{1}{m}\\sum X^T(\\theta_TX-y)\n",
    "    def __partialderiv_J_func_for_intersect(self):\n",
    "        sum = 0\n",
    " \n",
    "        for i in range(0, self.m):\n",
    "            err = self.__error_dist(self.x[i], self.y[i])\n",
    "            sum += err\n",
    "   \n",
    "        return 1/self.m * sum\n",
    " \n",
    "    #\\theta = \\theta - \\alpha * \\partial costfunction\n",
    "    def __gradient_descent(self):\n",
    "        cost = 100000.0\n",
    "        last_cost = 200000.0\n",
    "        threshold = 0.01\n",
    " \n",
    "        self.iter_count = 0\n",
    "        #repeat until convergence\n",
    "        while abs(cost - last_cost) > 0.0001:\n",
    "            last_cost = cost\n",
    "            self.theta = self.theta - self.alpha * self.__partialderiv_J_func()\n",
    "            self.intercept = self.intercept - self.alpha * self.__partialderiv_J_func_for_intersect()\n",
    "            cost = -self.__Jfunction()\n",
    "            self.cost_history.append(cost)\n",
    "            print('iter=%d deltaCost=%f'%(self.iter_count, last_cost - cost))\n",
    "            self.iter_count += 1\n",
    " \n",
    " \n",
    "    def __calculate_norm_params(self, x):\n",
    "        offset = np.zeros(self.n_feature)\n",
    "        scalar = np.ones(self.n_feature)\n",
    "        for feature_idx in range(0, self.n_feature):\n",
    "            col = x[:, np.newaxis, feature_idx]\n",
    "            min = col.min()\n",
    "            max = col.max()\n",
    "            mean = col.mean()\n",
    " \n",
    "            if( min != max):\n",
    "                scalar[feature_idx] = 1.0/(max - min)\n",
    "            else:\n",
    "                scalar[feature_idx] = 1.0/max\n",
    "            \n",
    "            offset[feature_idx] = mean\n",
    " \n",
    "        return offset, scalar\n",
    " \n",
    "    def __normalize(self, x):\n",
    "        return (x - self.offset) * self.scalar       \n",
    " \n",
    "    \n",
    "    def fit(self, x, y):\n",
    "        if x.shape[0] != y.shape[0]:\n",
    "            raise 'x, y have different length!'\n",
    "     \n",
    "        self.m = x.shape[0]\n",
    "        self.n_feature = x.shape[1]\n",
    "        self.theta = np.zeros(x[0].size)\n",
    " \n",
    "        if self.normalize:\n",
    "            self.offset, self.scalar = self.__calculate_norm_params(x)\n",
    "            self.x = self.__normalize(x)\n",
    "        else:\n",
    "            self.x = x\n",
    " \n",
    "        self.y = y \n",
    "        \n",
    "        self.__gradient_descent()\n",
    " \n",
    "        self.coef_ = self.theta\n",
    "        pass\n",
    " \n",
    "    def predict(self, x):\n",
    "        y_pred = []\n",
    "        for element in x:\n",
    "            xi = element\n",
    "            if self.normalize:\n",
    "                xi = self.__normalize(element)\n",
    " \n",
    "            y_pred.append(self.__hypothetic(xi))\n",
    " \n",
    "        return y_pred"
   ]
  },
  {
   "cell_type": "code",
   "execution_count": null,
   "metadata": {},
   "outputs": [],
   "source": []
  },
  {
   "cell_type": "code",
   "execution_count": 10,
   "metadata": {},
   "outputs": [
    {
     "name": "stdout",
     "output_type": "stream",
     "text": [
      "(200, 2)\n"
     ]
    },
    {
     "data": {
      "image/png": "[encoded data removed]",
      "text/plain": [
       "<Figure size 432x288 with 1 Axes>"
      ]
     },
     "metadata": {
      "needs_background": "light"
     },
     "output_type": "display_data"
    }
   ],
   "source": [
    "import matplotlib.pyplot as plt\n",
    "import numpy as np\n",
    "# from sklearn import linear_model\n",
    "from sklearn.datasets import make_gaussian_quantiles\n",
    "from sklearn.model_selection import train_test_split\n",
    "from sklearn.preprocessing import StandardScaler\n",
    "\n",
    "\n",
    "import numpy as np\n",
    "import matplotlib.pyplot as plt\n",
    "\n",
    "np.random.seed(233)\n",
    "X = np.random.normal(0, 1, size=(200, 2))\n",
    "print(X.shape)\n",
    "y = np.array(X[:, 0] ** 2 + X[:, 1] ** 2 < 1.5, dtype='int')\n",
    "\n",
    "XCopy = list(X)\n",
    "XCopy.append(np.array([-2, 2]))\n",
    "X = np.array(XCopy)\n",
    "y = np.append(y, 1)\n",
    "# print(X)\n",
    "# print(y)\n",
    "plt.scatter(X[y == 0, 0], X[y == 0, 1])\n",
    "plt.scatter(X[y == 1, 0], X[y == 1, 1])\n",
    "plt.show()\n",
    "#"
   ]
  },
  {
   "cell_type": "code",
   "execution_count": 13,
   "metadata": {},
   "outputs": [
    {
     "name": "stdout",
     "output_type": "stream",
     "text": [
      "iter=0 deltaCost=99999.306876\n",
      "iter=1 deltaCost=0.000021\n"
     ]
    }
   ],
   "source": [
    "# from sklearn.linear_model import LogisticRegression\n",
    "from sklearn.model_selection import train_test_split\n",
    "\n",
    "\n",
    "X_train, X_test, y_train, y_test = train_test_split(X, y, random_state=666)\n",
    "#\n",
    "logReg = LogisticRegression()\n",
    "logReg.fit(X_train, y_train)\n",
    "# print(logReg.score(X_train, y_train))\n",
    "# score = logReg.score(X_test, y_test)\n",
    "# print(score)"
   ]
  },
  {
   "cell_type": "code",
   "execution_count": 4,
   "metadata": {},
   "outputs": [
    {
     "name": "stderr",
     "output_type": "stream",
     "text": [
      "D:\\Application\\Anaconda3\\lib\\site-packages\\matplotlib\\contour.py:1000: UserWarning: The following kwargs were not used by contour: 'linewidth'\n",
      "  s)\n"
     ]
    },
    {
     "data": {
      "image/png": "[encoded data removed]",
      "text/plain": [
       "<Figure size 432x288 with 1 Axes>"
      ]
     },
     "metadata": {
      "needs_background": "light"
     },
     "output_type": "display_data"
    }
   ],
   "source": [
    "def plot_decision_boundary(model, axis):\n",
    "    x0, x1 = np.meshgrid(\n",
    "        np.linspace(axis[0], axis[1], int((axis[1] - axis[0]) * 100)).reshape(-1, 1),\n",
    "        np.linspace(axis[2], axis[3], int((axis[3] - axis[2]) * 100)).reshape(-1, 1),\n",
    "    )\n",
    "    X_new = np.c_[x0.ravel(), x1.ravel()]\n",
    "    y_predict = model.predict(X_new)\n",
    "    zz = y_predict.reshape(x0.shape)\n",
    "    from matplotlib.colors import ListedColormap\n",
    "    custom_cmap = ListedColormap(['#EF9A9A', '#FFF59D', '#90CAF9'])\n",
    "    plt.contourf(x0, x1, zz, linewidth=5, cmap=custom_cmap)\n",
    "\n",
    "\n",
    "plot_decision_boundary(logReg, axis=[-4, 4, -4, 4])\n",
    "plt.scatter(X[y == 0, 0], X[y == 0, 1])\n",
    "plt.scatter(X[y == 1, 0], X[y == 1, 1])\n",
    "plt.show()"
   ]
  },
  {
   "cell_type": "code",
   "execution_count": 5,
   "metadata": {},
   "outputs": [
    {
     "name": "stderr",
     "output_type": "stream",
     "text": [
      "D:\\Application\\Anaconda3\\lib\\site-packages\\sklearn\\linear_model\\logistic.py:433: FutureWarning: Default solver will be changed to 'lbfgs' in 0.22. Specify a solver to silence this warning.\n",
      "  FutureWarning)\n"
     ]
    },
    {
     "name": "stdout",
     "output_type": "stream",
     "text": [
      "0.9411764705882353\n"
     ]
    },
    {
     "name": "stderr",
     "output_type": "stream",
     "text": [
      "D:\\Application\\Anaconda3\\lib\\site-packages\\matplotlib\\contour.py:1000: UserWarning: The following kwargs were not used by contour: 'linewidth'\n",
      "  s)\n"
     ]
    },
    {
     "data": {
      "image/png": "[encoded data removed]",
      "text/plain": [
       "<Figure size 432x288 with 1 Axes>"
      ]
     },
     "metadata": {
      "needs_background": "light"
     },
     "output_type": "display_data"
    }
   ],
   "source": [
    "from sklearn.preprocessing import PolynomialFeatures\n",
    "from sklearn.pipeline import Pipeline\n",
    "from sklearn.preprocessing import StandardScaler\n",
    "\n",
    "\n",
    "# 多项式逻辑回归代价函数\n",
    "def PolynomialLogisticRegression(degree):\n",
    "    return Pipeline([\n",
    "        ('poly', PolynomialFeatures(degree=degree)),\n",
    "        ('std_scaler', StandardScaler()),\n",
    "        ('logReg', LogisticRegression())\n",
    "    ])\n",
    "\n",
    "\n",
    "polyLogReg = PolynomialLogisticRegression(degree=6)\n",
    "polyLogReg.fit(X_train, y_train)\n",
    "# polyLogReg.score(X_train, y_train)\n",
    "print(polyLogReg.score(X_test, y_test))\n",
    "plot_decision_boundary(polyLogReg, axis=[-4, 4, -4, 4])\n",
    "plt.scatter(X[y == 0, 0], X[y == 0, 1])\n",
    "plt.scatter(X[y == 1, 0], X[y == 1, 1])\n",
    "plt.show()\n"
   ]
  },
  {
   "cell_type": "code",
   "execution_count": 6,
   "metadata": {},
   "outputs": [
    {
     "name": "stderr",
     "output_type": "stream",
     "text": [
      "D:\\Application\\Anaconda3\\lib\\site-packages\\sklearn\\linear_model\\logistic.py:433: FutureWarning: Default solver will be changed to 'lbfgs' in 0.22. Specify a solver to silence this warning.\n",
      "  FutureWarning)\n",
      "D:\\Application\\Anaconda3\\lib\\site-packages\\matplotlib\\contour.py:1000: UserWarning: The following kwargs were not used by contour: 'linewidth'\n",
      "  s)\n"
     ]
    },
    {
     "data": {
      "image/png": "[encoded data removed]",
      "text/plain": [
       "<Figure size 432x288 with 1 Axes>"
      ]
     },
     "metadata": {
      "needs_background": "light"
     },
     "output_type": "display_data"
    }
   ],
   "source": [
    "polyLogReg2 = PolynomialLogisticRegression(degree=15)\n",
    "polyLogReg2.fit(X_train, y_train)\n",
    "polyLogReg2.score(X_train, y_train)\n",
    "polyLogReg2.score(X_test, y_test)\n",
    "plot_decision_boundary(polyLogReg2, axis=[-4, 4, -4, 4])\n",
    "plt.scatter(X[y == 0, 0], X[y == 0, 1])\n",
    "plt.scatter(X[y == 1, 0], X[y == 1, 1])\n",
    "plt.show()\n"
   ]
  },
  {
   "cell_type": "code",
   "execution_count": 8,
   "metadata": {},
   "outputs": [
    {
     "name": "stderr",
     "output_type": "stream",
     "text": [
      "D:\\Application\\Anaconda3\\lib\\site-packages\\sklearn\\linear_model\\logistic.py:433: FutureWarning: Default solver will be changed to 'lbfgs' in 0.22. Specify a solver to silence this warning.\n",
      "  FutureWarning)\n",
      "D:\\Application\\Anaconda3\\lib\\site-packages\\matplotlib\\contour.py:1000: UserWarning: The following kwargs were not used by contour: 'linewidth'\n",
      "  s)\n"
     ]
    },
    {
     "data": {
      "image/png": "[encoded data removed]",
      "text/plain": [
       "<Figure size 432x288 with 1 Axes>"
      ]
     },
     "metadata": {
      "needs_background": "light"
     },
     "output_type": "display_data"
    }
   ],
   "source": [
    "def PolynomialLogisticRegression(degree, C):\n",
    "    return Pipeline([\n",
    "        ('poly', PolynomialFeatures(degree=degree)),\n",
    "        ('std_scaler', StandardScaler()),\n",
    "        ('logReg', LogisticRegression(C=C))\n",
    "    ])\n",
    "\n",
    "\n",
    "poly_logReg3 = PolynomialLogisticRegression(degree=6, C=0.1)\n",
    "poly_logReg3.fit(X_train, y_train)\n",
    "poly_logReg3.score(X_train, y_train)\n",
    "poly_logReg3.score(X_test, y_test)\n",
    "plot_decision_boundary(poly_logReg3, axis=[-4, 4, -4, 4])\n",
    "plt.scatter(X[y == 0, 0], X[y == 0, 1])\n",
    "plt.scatter(X[y == 1, 0], X[y == 1, 1])\n",
    "plt.show()\n"
   ]
  },
  {
   "cell_type": "code",
   "execution_count": null,
   "metadata": {},
   "outputs": [],
   "source": []
  }
 ],
 "metadata": {
  "kernelspec": {
   "display_name": "Python 3",
   "language": "python",
   "name": "python3"
  },
  "language_info": {
   "codemirror_mode": {
    "name": "ipython",
    "version": 3
   },
   "file_extension": ".py",
   "mimetype": "text/x-python",
   "name": "python",
   "nbconvert_exporter": "python",
   "pygments_lexer": "ipython3",
   "version": "3.7.3"
  }
 },
 "nbformat": 4,
 "nbformat_minor": 2
}
